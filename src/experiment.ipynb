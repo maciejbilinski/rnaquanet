{
 "cells": [
  {
   "cell_type": "markdown",
   "metadata": {},
   "source": [
    "# Importy"
   ]
  },
  {
   "cell_type": "code",
   "execution_count": 9,
   "metadata": {},
   "outputs": [
    {
     "name": "stdout",
     "output_type": "stream",
     "text": [
      "The autoreload extension is already loaded. To reload it, use:\n",
      "  %reload_ext autoreload\n"
     ]
    }
   ],
   "source": [
    "%load_ext autoreload\n",
    "%autoreload 2\n",
    "%matplotlib inline\n",
    "import sys\n",
    "import os\n",
    "import time\n",
    "import torch\n",
    "from torch_geometric.data import Data, Batch\n",
    "import pytorch_lightning as pl\n",
    "import numpy as np\n",
    "import pandas as pd\n",
    "from torch.nn import (\n",
    "    BatchNorm1d,\n",
    "    Identity\n",
    ")\n",
    "import torch.nn.functional as F\n",
    "from torch_geometric.nn import (\n",
    "    GATConv,\n",
    "    GCNConv,\n",
    "    global_mean_pool\n",
    ")\n",
    "from torch.optim.lr_scheduler import StepLR\n",
    "\n",
    "import matplotlib.pyplot as plt\n",
    "from pytorch_lightning.callbacks.early_stopping import EarlyStopping\n",
    "\n",
    "from config.config import RnaquanetConfig\n",
    "from config.os import change_dir\n",
    "from network.rnaqa_lightning import RnaQALightning\n",
    "from data.ares_data_module import AresDataModule"
   ]
  },
  {
   "cell_type": "markdown",
   "metadata": {},
   "source": [
    "# Konfiguracja"
   ]
  },
  {
   "cell_type": "code",
   "execution_count": 2,
   "metadata": {},
   "outputs": [],
   "source": [
    "change_dir('../..')\n",
    "config = RnaquanetConfig('config.yml')\n",
    "torch.set_float32_matmul_precision('high')"
   ]
  },
  {
   "cell_type": "markdown",
   "metadata": {},
   "source": [
    "# Dane"
   ]
  },
  {
   "cell_type": "code",
   "execution_count": 3,
   "metadata": {},
   "outputs": [],
   "source": [
    "data = AresDataModule(config, batch_size=1000, num_workers=4)\n",
    "data.prepare_data()"
   ]
  },
  {
   "cell_type": "markdown",
   "metadata": {},
   "source": [
    "## Test rozkładu cech wierzchołków"
   ]
  },
  {
   "cell_type": "code",
   "execution_count": null,
   "metadata": {},
   "outputs": [],
   "source": [
    "def analyse(X: torch.Tensor):\n",
    "    min_vals = X.min(axis=0).values\n",
    "    max_vals = X.max(axis=0).values\n",
    "    mean_vals = X.mean(axis=0)\n",
    "    std_vals = X.std(axis=0)\n",
    "    most_frequent_vals = X.mode(axis=0).values\n",
    "    return {\n",
    "        'min': min_vals,\n",
    "        'max': max_vals,\n",
    "        'mean': mean_vals,\n",
    "        'std': std_vals,\n",
    "        'most_frequent': most_frequent_vals\n",
    "    }"
   ]
  },
  {
   "cell_type": "code",
   "execution_count": null,
   "metadata": {},
   "outputs": [],
   "source": [
    "X_train = torch.cat(list(map(lambda d: d.x, data.train_data)))\n",
    "X_val = torch.cat(list(map(lambda d: d.x, data.val_data)))\n",
    "X_combined = torch.cat((X_train, X_val))\n",
    "analysis_train = analyse(X_train)\n",
    "analysis_val = analyse(X_val)\n",
    "analysis_combined = analyse(X_combined)\n",
    "\n",
    "df = pd.DataFrame({\n",
    "    'min_train': analysis_train['min'],\n",
    "    'max_train': analysis_train['max'],\n",
    "    'mean_train': analysis_train['mean'],\n",
    "    'std_train': analysis_train['std'],\n",
    "    'most_frequent_train': analysis_train['most_frequent'],\n",
    "    'min_val': analysis_val['min'],\n",
    "    'max_val': analysis_val['max'],\n",
    "    'mean_val': analysis_val['mean'],\n",
    "    'std_val': analysis_val['std'],\n",
    "    'most_frequent_val': analysis_val['most_frequent'],\n",
    "    'min_combined': analysis_combined['min'],\n",
    "    'max_combined': analysis_combined['max'],\n",
    "    'mean_combined': analysis_combined['mean'],\n",
    "    'std_combined': analysis_combined['std'],\n",
    "    'most_frequent_combined': analysis_combined['most_frequent']\n",
    "})\n",
    "display(df)\n",
    "df.to_excel('analysis/data_distribution.xlsx')"
   ]
  },
  {
   "cell_type": "markdown",
   "metadata": {},
   "source": [
    "# Edukacja"
   ]
  },
  {
   "cell_type": "markdown",
   "metadata": {},
   "source": [
    "## BatchNorm"
   ]
  },
  {
   "cell_type": "code",
   "execution_count": null,
   "metadata": {},
   "outputs": [],
   "source": [
    "batch_norm = BatchNorm1d(X_train.shape[1])\n",
    "with torch.no_grad():\n",
    "    analysis_batch_norm = analyse(batch_norm(X_train))\n",
    "\n",
    "df = pd.DataFrame({\n",
    "    'min': analysis_batch_norm['min'],\n",
    "    'max': analysis_batch_norm['max'],\n",
    "    'mean': analysis_batch_norm['mean'],\n",
    "    'std': analysis_batch_norm['std'],\n",
    "    'most_frequent': analysis_batch_norm['most_frequent'],\n",
    "})\n",
    "display(df)\n",
    "df.to_excel('analysis/data_dist_batch_norm.xlsx')"
   ]
  },
  {
   "cell_type": "markdown",
   "metadata": {},
   "source": [
    "# Sieć neuronowa"
   ]
  },
  {
   "cell_type": "code",
   "execution_count": 12,
   "metadata": {},
   "outputs": [],
   "source": [
    "class SimpleGraphRegression(pl.LightningModule):\n",
    "    def __init__(self, hidden_dim, batch_norm = False):\n",
    "        super(SimpleGraphRegression, self).__init__()\n",
    "        \n",
    "        self.batch_norm1 = BatchNorm1d(96) if batch_norm else Identity()\n",
    "        self.conv1 = GATConv(96, hidden_dim, dropout=0.5)\n",
    "        self.batch_norm2 = BatchNorm1d(hidden_dim) if batch_norm else Identity()\n",
    "        self.conv2 = GCNConv(hidden_dim, int(1.5*hidden_dim))\n",
    "        self.batch_norm3 = BatchNorm1d(int(1.5*hidden_dim)) if batch_norm else Identity()\n",
    "        self.conv3 = GATConv(int(1.5*hidden_dim), 2*hidden_dim, dropout=0.2)\n",
    "        self.batch_norm4 = BatchNorm1d(2*hidden_dim) if batch_norm else Identity()\n",
    "        self.conv4 = GCNConv(2*hidden_dim, 1)\n",
    "        \n",
    "    def forward(self, x, edge_index, edge_attr, batch):\n",
    "        x = self.batch_norm1(x)\n",
    "        x = self.conv1(x, edge_index, edge_attr)\n",
    "        x = F.relu(x)\n",
    "        \n",
    "        x = self.batch_norm2(x)\n",
    "        x = self.conv2(x, edge_index)\n",
    "        x = F.relu(x)\n",
    "\n",
    "        x = self.batch_norm3(x)\n",
    "        x = self.conv3(x, edge_index)\n",
    "        x = F.relu(x)\n",
    "\n",
    "        x = self.batch_norm4(x)\n",
    "        x = self.conv4(x, edge_index)\n",
    "        \n",
    "        x = global_mean_pool(x, batch) \n",
    "        \n",
    "        return x\n",
    "    \n",
    "    def training_step(self, item, batch_idx):\n",
    "        x = item.x\n",
    "        edge_index = item.edge_index\n",
    "        edge_attr = item.edge_attr\n",
    "        batch = item.batch\n",
    "        y = item.y.view(-1, 1)\n",
    "        output = self(x, edge_index, edge_attr, batch)\n",
    "        loss = F.mse_loss(output, y)\n",
    "        self.log('train_loss', loss, on_epoch=True, prog_bar=True, batch_size=len(batch))\n",
    "        return loss\n",
    "    \n",
    "    def validation_step(self, item, batch_idx):\n",
    "        x = item.x\n",
    "        edge_index = item.edge_index\n",
    "        edge_attr = item.edge_attr\n",
    "        batch = item.batch\n",
    "        y = item.y.view(-1, 1)\n",
    "        output = self(x, edge_index, edge_attr, batch)\n",
    "        loss = F.mse_loss(output, y)\n",
    "        self.log('val_loss', loss, on_epoch=True, prog_bar=True, batch_size=len(batch))\n",
    "    \n",
    "    def configure_optimizers(self):\n",
    "        optimizer = torch.optim.Adam(self.parameters(), lr=0.001, weight_decay=0.3)\n",
    "        scheduler = StepLR(optimizer, step_size=10, gamma=0.5)\n",
    "        return [optimizer], [scheduler]"
   ]
  },
  {
   "cell_type": "code",
   "execution_count": 5,
   "metadata": {},
   "outputs": [],
   "source": [
    "class LossLogger(pl.Callback):\n",
    "    def __init__(self):\n",
    "        super().__init__()\n",
    "        self.train_losses = []\n",
    "        self.val_losses = []\n",
    "\n",
    "    def on_train_epoch_end(self, trainer, pl_module):\n",
    "        if 'train_loss_epoch' in trainer.logged_metrics:\n",
    "            self.train_losses.append(trainer.logged_metrics['train_loss_epoch'].item())\n",
    "        self.on_train_end(trainer, pl_module)\n",
    "\n",
    "    def on_validation_epoch_end(self, trainer, pl_module):\n",
    "        if 'val_loss' in trainer.logged_metrics:\n",
    "            self.val_losses.append(trainer.logged_metrics['val_loss'].item())\n",
    "            \n",
    "    def on_train_end(self, trainer, pl_module):\n",
    "        epochs = range(1, len(self.train_losses) + 1)\n",
    "        plt.plot(epochs, self.train_losses, label='Train Loss')\n",
    "        plt.plot(epochs, self.val_losses[1:], label='Validation Loss')\n",
    "        plt.xlabel('Epoch')\n",
    "        plt.ylabel('Loss')\n",
    "        plt.title('Training and Validation Loss')\n",
    "        \n",
    "        # Znajdź minimalny train_loss i val_loss\n",
    "        min_train_loss = min(self.train_losses)\n",
    "        min_val_loss = min(self.val_losses)\n",
    "        \n",
    "        # Zaznacz punkt z minimalnym train_loss\n",
    "        plt.scatter(self.train_losses.index(min_train_loss) + 1, min_train_loss, color='red', label=f'{min_train_loss:.2f}')\n",
    "        # Zaznacz punkt z minimalnym val_loss\n",
    "        plt.scatter(self.val_losses.index(min_val_loss), min_val_loss, color='green', label=f'{min_val_loss:.2f}')\n",
    "        plt.yscale('log')\n",
    "        plt.legend()\n",
    "        plt.show()\n"
   ]
  },
  {
   "cell_type": "code",
   "execution_count": 13,
   "metadata": {},
   "outputs": [
    {
     "name": "stderr",
     "output_type": "stream",
     "text": [
      "GPU available: True (cuda), used: True\n",
      "TPU available: False, using: 0 TPU cores\n",
      "IPU available: False, using: 0 IPUs\n",
      "HPU available: False, using: 0 HPUs\n",
      "LOCAL_RANK: 0 - CUDA_VISIBLE_DEVICES: [0]\n",
      "\n",
      "  | Name        | Type        | Params\n",
      "--------------------------------------------\n",
      "0 | batch_norm1 | BatchNorm1d | 192   \n",
      "1 | conv1       | GATConv     | 6.3 K \n",
      "2 | batch_norm2 | BatchNorm1d | 128   \n",
      "3 | conv2       | GCNConv     | 6.2 K \n",
      "4 | batch_norm3 | BatchNorm1d | 192   \n",
      "5 | conv3       | GATConv     | 12.7 K\n",
      "6 | batch_norm4 | BatchNorm1d | 256   \n",
      "7 | conv4       | GCNConv     | 129   \n",
      "--------------------------------------------\n",
      "26.1 K    Trainable params\n",
      "0         Non-trainable params\n",
      "26.1 K    Total params\n",
      "0.105     Total estimated model params size (MB)\n"
     ]
    },
    {
     "name": "stdout",
     "output_type": "stream",
     "text": [
      "Sanity Checking: 0it [00:00, ?it/s]"
     ]
    }
   ],
   "source": [
    "model = SimpleGraphRegression(hidden_dim=64, batch_norm=True)\n",
    "logger = LossLogger()\n",
    "trainer = pl.Trainer(max_epochs=200, log_every_n_steps=1, callbacks=[logger]) \n",
    "trainer.fit(model, data)\n"
   ]
  }
 ],
 "metadata": {
  "kernelspec": {
   "display_name": "Python 3",
   "language": "python",
   "name": "python3"
  },
  "language_info": {
   "codemirror_mode": {
    "name": "ipython",
    "version": 3
   },
   "file_extension": ".py",
   "mimetype": "text/x-python",
   "name": "python",
   "nbconvert_exporter": "python",
   "pygments_lexer": "ipython3",
   "version": "3.11.4"
  },
  "orig_nbformat": 4
 },
 "nbformat": 4,
 "nbformat_minor": 2
}
