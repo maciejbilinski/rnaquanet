{
 "cells": [
  {
   "cell_type": "markdown",
   "metadata": {},
   "source": [
    "# Import"
   ]
  },
  {
   "cell_type": "code",
   "execution_count": 2,
   "metadata": {},
   "outputs": [],
   "source": [
    "import os\n",
    "import torch\n",
    "import numpy as np\n",
    "import pytorch_lightning as pl\n",
    "from time import time_ns\n",
    "from pytorch_lightning.callbacks.early_stopping import EarlyStopping\n",
    "from pytorch_lightning.callbacks.model_checkpoint import ModelCheckpoint\n",
    "from rnaquanet.network.graph_regression_network import GraphRegressionNetwork\n",
    "from rnaquanet.network.grn_data_module import GRNDataModule\n",
    "from rnaquanet.utils.rnaquanet_config import RnaquanetConfig\n",
    "from pytorch_lightning.loggers import TensorBoardLogger"
   ]
  },
  {
   "cell_type": "markdown",
   "metadata": {},
   "source": [
    "# Wstępna konfiguracja"
   ]
  },
  {
   "cell_type": "code",
   "execution_count": 3,
   "metadata": {},
   "outputs": [],
   "source": [
    "torch.set_float32_matmul_precision('high')\n",
    "\n",
    "# konfiguracje można zmienić w locie przy definiowaniu\n",
    "config = RnaquanetConfig('/app/configs/config_rnaquanetdataset.yml', override = {\n",
    "    'network': {\n",
    "        'num_workers': 4\n",
    "    }\n",
    "})\n",
    "\n",
    "\n",
    "data = GRNDataModule(config)\n",
    "data.prepare_data()"
   ]
  },
  {
   "cell_type": "code",
   "execution_count": 4,
   "metadata": {},
   "outputs": [],
   "source": [
    "from pytorch_lightning import Callback\n",
    "import copy\n",
    "\n",
    "\n",
    "class MetricsCallback(Callback):\n",
    "    \"\"\"PyTorch Lightning metric callback.\"\"\"\n",
    "\n",
    "    def __init__(self,writer,what=\"epochs\"):\n",
    "        super().__init__()\n",
    "        self.what = what\n",
    "        self.metrics = []\n",
    "        self.writer=writer\n",
    "        self.epochs=1\n",
    "\n",
    "    def on_train_epoch_end(self, trainer, pl_module):\n",
    "        if self.what == \"epochs\":\n",
    "            self.epochs += 1\n",
    "            try:\n",
    "                self.writer.add_scalar('Loss/train', trainer.callback_metrics['train_loss_epoch'].item(), self.epochs)\n",
    "            except:\n",
    "                pass\n",
    "    def on_validation_end(self, trainer, pl_module):\n",
    "        self.metrics.append(copy.deepcopy(trainer.callback_metrics))\n",
    "        try:\n",
    "            self.writer.add_scalar('Loss/val', trainer.callback_metrics['val_loss'].item(), self.epochs)\n",
    "        except:\n",
    "                pass"
   ]
  },
  {
   "cell_type": "markdown",
   "metadata": {},
   "source": [
    "# Trening"
   ]
  },
  {
   "cell_type": "code",
   "execution_count": 8,
   "metadata": {},
   "outputs": [
    {
     "name": "stderr",
     "output_type": "stream",
     "text": [
      "GPU available: True (cuda), used: True\n",
      "TPU available: False, using: 0 TPU cores\n",
      "IPU available: False, using: 0 IPUs\n",
      "HPU available: False, using: 0 HPUs\n",
      "LOCAL_RANK: 0 - CUDA_VISIBLE_DEVICES: [0]\n",
      "\n",
      "  | Name       | Type       | Params\n",
      "------------------------------------------\n",
      "0 | batch_norm | ModuleList | 0     \n",
      "1 | conv       | ModuleList | 37.6 K\n",
      "------------------------------------------\n",
      "37.6 K    Trainable params\n",
      "0         Non-trainable params\n",
      "37.6 K    Total params\n",
      "0.151     Total estimated model params size (MB)\n"
     ]
    },
    {
     "name": "stdout",
     "output_type": "stream",
     "text": [
      "Epoch 6: 100%|██████████| 11/11 [00:01<00:00,  9.82it/s, v_num=3, train_loss_step=100.0, val_loss=161.0, train_loss_epoch=100.0]\n"
     ]
    }
   ],
   "source": [
    "# jeżeli chcemy wykonać jakiś eksperyment możemy ręcznie zmienić jakąś właściwość pliku konfiguracyjnego\n",
    "config.network.max_epochs = 25\n",
    "\n",
    "path = os.path.join(config.network.model_output_path, str(time_ns()))\n",
    "os.makedirs(path, exist_ok=False)\n",
    "\n",
    "# writer = SummaryWriter()\n",
    "model = GraphRegressionNetwork(config)\n",
    "logger = TensorBoardLogger(\"tb_logs\", name=\"RnaQALightning\")\n",
    "\n",
    "trainer = pl.Trainer(max_epochs=config.network.max_epochs, log_every_n_steps=1, callbacks=[\n",
    "    EarlyStopping('val_loss'),\n",
    "    ModelCheckpoint(dirpath=path, save_top_k=3, monitor='val_loss'),\n",
    "    MetricsCallback(logger.experiment)\n",
    "],\n",
    " logger=logger\n",
    ") \n",
    "trainer.fit(model, data)\n",
    "trainer.save_checkpoint(os.path.join(path, 'final.cpkt'))\n",
    "for item in data.train_dataloader():\n",
    "    logger.experiment.add_graph(model,[item.x,item.edge_index,item.edge_attr, item.batch])\n",
    "logger.experiment.add_hparams({\n",
    "                \"HP_hidden_dim\": config.network.hidden_dim,\n",
    "                \"HP_num_of_layers\": config.network.num_of_layers,\n",
    "                \"HP_num_of_node_features\": config.network.num_of_node_features,\n",
    "                \"HP_batch_norm\": config.network.batch_norm,\n",
    "                \"HP_gat_dropout\": config.network.gat_dropout,\n",
    "                \"HP_lr\": config.network.lr,\n",
    "                \"HP_weight_decay\": config.network.weight_decay,\n",
    "                \"HP_scheduler_step_size\": config.network.scheduler_step_size,\n",
    "                \"HP_scheduler_gamma\": config.network.scheduler_gamma\n",
    "            },\n",
    "            {\n",
    "                'Loss_train':trainer.logged_metrics['train_loss_epoch'].item(),\n",
    "                'Loss_val':trainer.logged_metrics['val_loss'].item()\n",
    "            },run_name=''\n",
    "        )\n",
    "model.custom_histogram_adder()\n"
   ]
  },
  {
   "cell_type": "raw",
   "metadata": {},
   "source": [
    "#!/bin/bash\n",
    "tensorboard --logdir=./notebooks/tb_logs/RnaQALightning/"
   ]
  }
 ],
 "metadata": {
  "kernelspec": {
   "display_name": "Python 3",
   "language": "python",
   "name": "python3"
  },
  "language_info": {
   "codemirror_mode": {
    "name": "ipython",
    "version": 3
   },
   "file_extension": ".py",
   "mimetype": "text/x-python",
   "name": "python",
   "nbconvert_exporter": "python",
   "pygments_lexer": "ipython3",
   "version": "3.11.6"
  }
 },
 "nbformat": 4,
 "nbformat_minor": 2
}
