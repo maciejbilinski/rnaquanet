{
 "cells": [
  {
   "cell_type": "markdown",
   "metadata": {},
   "source": [
    "# Import"
   ]
  },
  {
   "cell_type": "code",
   "execution_count": 7,
   "metadata": {},
   "outputs": [],
   "source": [
    "import os\n",
    "import torch\n",
    "import pytorch_lightning as pl\n",
    "from time import time_ns\n",
    "from pytorch_lightning.callbacks.early_stopping import EarlyStopping\n",
    "from pytorch_lightning.callbacks.model_checkpoint import ModelCheckpoint\n",
    "from rnaquanet.network.graph_regression_network import GraphRegressionNetwork\n",
    "from rnaquanet.network.grn_data_module import GRNDataModule\n",
    "from rnaquanet.utils.rnaquanet_config import RnaquanetConfig\n",
    "from pytorch_lightning.loggers import TensorBoardLogger"
   ]
  },
  {
   "cell_type": "markdown",
   "metadata": {},
   "source": [
    "# Wstępna konfiguracja"
   ]
  },
  {
   "cell_type": "code",
   "execution_count": 8,
   "metadata": {},
   "outputs": [],
   "source": [
    "torch.set_float32_matmul_precision('high')\n",
    "\n",
    "# konfiguracje można zmienić w locie przy definiowaniu\n",
    "config = RnaquanetConfig('/app/configs/config_ares_tiny.yml', override = {\n",
    "    'network': {\n",
    "        'num_workers': 4\n",
    "    }\n",
    "})\n",
    "\n",
    "\n",
    "data = GRNDataModule(config)\n",
    "data.prepare_data()"
   ]
  },
  {
   "cell_type": "markdown",
   "metadata": {},
   "source": [
    "# Trening"
   ]
  },
  {
   "cell_type": "code",
   "execution_count": 9,
   "metadata": {},
   "outputs": [
    {
     "name": "stderr",
     "output_type": "stream",
     "text": [
      "GPU available: True (cuda), used: True\n",
      "TPU available: False, using: 0 TPU cores\n",
      "IPU available: False, using: 0 IPUs\n",
      "HPU available: False, using: 0 HPUs\n",
      "LOCAL_RANK: 0 - CUDA_VISIBLE_DEVICES: [0]\n",
      "\n",
      "  | Name       | Type       | Params\n",
      "------------------------------------------\n",
      "0 | batch_norm | ModuleList | 0     \n",
      "1 | conv       | ModuleList | 37.6 K\n",
      "------------------------------------------\n",
      "37.6 K    Trainable params\n",
      "0         Non-trainable params\n",
      "37.6 K    Total params\n",
      "0.151     Total estimated model params size (MB)\n"
     ]
    },
    {
     "name": "stdout",
     "output_type": "stream",
     "text": [
      "Epoch 12: 100%|██████████| 1/1 [00:00<00:00,  4.15it/s, v_num=3, train_loss_step=15.40, val_loss=9.710, train_loss_epoch=15.40]\n"
     ]
    }
   ],
   "source": [
    "# jeżeli chcemy wykonać jakiś eksperyment możemy ręcznie zmienić jakąś właściwość pliku konfiguracyjnego\n",
    "config.network.max_epochs = 25\n",
    "\n",
    "path = os.path.join(config.network.model_output_path, str(time_ns()))\n",
    "os.makedirs(path, exist_ok=False)\n",
    "\n",
    "model = GraphRegressionNetwork(config)\n",
    "trainer = pl.Trainer(max_epochs=config.network.max_epochs, log_every_n_steps=1, callbacks=[\n",
    "    EarlyStopping('val_loss'),\n",
    "    ModelCheckpoint(dirpath=path, save_top_k=3, monitor='val_loss'),\n",
    "], logger=TensorBoardLogger(\"tb_logs\", name=\"RnaQALightning\")) \n",
    "trainer.fit(model, data)\n",
    "trainer.save_checkpoint(os.path.join(path, 'final.cpkt'))"
   ]
  }
 ],
 "metadata": {
  "kernelspec": {
   "display_name": "Python 3",
   "language": "python",
   "name": "python3"
  },
  "language_info": {
   "codemirror_mode": {
    "name": "ipython",
    "version": 3
   },
   "file_extension": ".py",
   "mimetype": "text/x-python",
   "name": "python",
   "nbconvert_exporter": "python",
   "pygments_lexer": "ipython3",
   "version": "3.11.6"
  }
 },
 "nbformat": 4,
 "nbformat_minor": 2
}
