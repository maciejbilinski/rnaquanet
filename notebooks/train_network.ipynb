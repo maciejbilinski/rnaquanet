{
 "cells": [
  {
   "cell_type": "markdown",
   "metadata": {},
   "source": [
    "# Import"
   ]
  },
  {
   "cell_type": "code",
   "execution_count": null,
   "metadata": {},
   "outputs": [],
   "source": [
    "import os\n",
    "import torch\n",
    "import pytorch_lightning as pl\n",
    "from time import time_ns\n",
    "from pytorch_lightning.callbacks.early_stopping import EarlyStopping\n",
    "from pytorch_lightning.callbacks.model_checkpoint import ModelCheckpoint\n",
    "from rnaquanet.network.graph_regression_network import GraphRegressionNetwork\n",
    "from rnaquanet.network.grn_data_module import GRNDataModule\n",
    "from rnaquanet.utils.rnaquanet_config import RnaquanetConfig\n",
    "from pytorch_lightning.loggers import TensorBoardLogger"
   ]
  },
  {
   "cell_type": "markdown",
   "metadata": {},
   "source": [
    "# Wstępna konfiguracja"
   ]
  },
  {
   "cell_type": "code",
   "execution_count": null,
   "metadata": {},
   "outputs": [],
   "source": [
    "torch.set_float32_matmul_precision('high')\n",
    "\n",
    "# konfiguracje można zmienić w locie przy definiowaniu\n",
    "config = RnaquanetConfig('/app/configs/config_ares_tiny.yml', override = {\n",
    "    'network': {\n",
    "        'num_workers': 4\n",
    "    }\n",
    "})\n",
    "\n",
    "\n",
    "data = GRNDataModule(config)\n",
    "data.prepare_data()"
   ]
  },
  {
   "cell_type": "markdown",
   "metadata": {},
   "source": [
    "# Trening"
   ]
  },
  {
   "cell_type": "code",
   "execution_count": null,
   "metadata": {},
   "outputs": [],
   "source": [
    "# jeżeli chcemy wykonać jakiś eksperyment możemy ręcznie zmienić jakąś właściwość pliku konfiguracyjnego\n",
    "config.network.max_epochs = 25\n",
    "\n",
    "path = os.path.join(config.network.model_output_path, str(time_ns()))\n",
    "os.makedirs(path, exist_ok=False)\n",
    "\n",
    "model = GraphRegressionNetwork(config)\n",
    "trainer = pl.Trainer(max_epochs=config.network.max_epochs, log_every_n_steps=1, callbacks=[\n",
    "    EarlyStopping('val_loss'),\n",
    "    ModelCheckpoint(dirpath=path, save_top_k=3, monitor='val_loss'),\n",
    "], logger=TensorBoardLogger(\"tb_logs\", name=\"RnaQALightning\")) \n",
    "trainer.fit(model, data)\n",
    "trainer.save_checkpoint(os.path.join(path, 'final.cpkt'))"
   ]
  }
 ],
 "metadata": {
  "kernelspec": {
   "display_name": "Python 3",
   "language": "python",
   "name": "python3"
  },
  "language_info": {
   "codemirror_mode": {
    "name": "ipython",
    "version": 3
   },
   "file_extension": ".py",
   "mimetype": "text/x-python",
   "name": "python",
   "nbconvert_exporter": "python",
   "pygments_lexer": "ipython3",
   "version": "3.11.6"
  }
 },
 "nbformat": 4,
 "nbformat_minor": 2
}
